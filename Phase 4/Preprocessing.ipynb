{
 "cells": [
  {
   "cell_type": "code",
   "execution_count": 1,
   "metadata": {},
   "outputs": [],
   "source": [
    "import re\n",
    "import os\n",
    "import requests\n",
    "import zipfile\n",
    "import math\n",
    "import pandas as pd\n",
    "import numpy as np\n",
    "from tqdm import tqdm"
   ]
  },
  {
   "cell_type": "code",
   "execution_count": 13,
   "metadata": {},
   "outputs": [],
   "source": [
    "root_url = 'http://www.kdnuggets.com/data_mining_course/data/'\n",
    "root_data = 'data'\n",
    "train_data_file = 'ALL_AML_gr.thr.train.csv'\n",
    "data_file = 'ALL_AML_train_processed.zip'"
   ]
  },
  {
   "cell_type": "code",
   "execution_count": 9,
   "metadata": {},
   "outputs": [
    {
     "name": "stderr",
     "output_type": "stream",
     "text": [
      "381KB [00:18, 20.7KB/s]                                                                                                \n"
     ]
    }
   ],
   "source": [
    "def unzip_file(file_addr,output_dir,remove=False) :\n",
    "    with zipfile.ZipFile(file_addr,\"r\") as zip_ref:\n",
    "        zip_ref.extractall(output_dir)\n",
    "    if remove :  \n",
    "        os.remove(file_addr)\n",
    "    return os.listdir(output_dir)\n",
    "\n",
    "def download_file(url,output_file,unzip=False,output_dir='') :\n",
    "    if not os.path.exists(data_file) :\n",
    "        # Streaming, so we can iterate over the response.\n",
    "        r = requests.get(url, stream=True)\n",
    "\n",
    "        # Total size in bytes.\n",
    "        total_size = int(r.headers.get('content-length', 0)); \n",
    "        block_size = 1024\n",
    "        wrote = 0 \n",
    "        with open(output_file, 'wb') as f:\n",
    "            for data in tqdm(r.iter_content(block_size), total=math.ceil(total_size//block_size) , unit='KB', unit_scale=True):\n",
    "                wrote = wrote  + len(data)\n",
    "                f.write(data)\n",
    "        if total_size != 0 and wrote != total_size:\n",
    "            print(\"ERROR, something went wrong\")\n",
    "    if unzip :\n",
    "        return unzip_file(output_file,output_dir,True)\n",
    "    return output_file\n",
    "\n",
    "files = download_file(root_url + data_file,data_file,True,root_data)"
   ]
  },
  {
   "cell_type": "code",
   "execution_count": 17,
   "metadata": {},
   "outputs": [],
   "source": [
    "pd.read_csv(os.path.join(root_data,files[0])) \\\n",
    "            .to_csv(os.path.join(root_data,train_data_file),index=False)"
   ]
  },
  {
   "cell_type": "code",
   "execution_count": 23,
   "metadata": {},
   "outputs": [],
   "source": [
    "data = pd.read_csv(os.path.join(root_data,train_data_file))"
   ]
  },
  {
   "cell_type": "code",
   "execution_count": 28,
   "metadata": {
    "scrolled": false
   },
   "outputs": [],
   "source": [
    "data['fold variation'] = data.apply(lambda row: max(row[1:]) - min(row[1:]),axis=1)"
   ]
  },
  {
   "cell_type": "code",
   "execution_count": 32,
   "metadata": {},
   "outputs": [
    {
     "data": {
      "text/plain": [
       "15980"
      ]
     },
     "execution_count": 32,
     "metadata": {},
     "output_type": "execute_result"
    }
   ],
   "source": [
    "max(data['fold variation'])"
   ]
  },
  {
   "cell_type": "code",
   "execution_count": 40,
   "metadata": {},
   "outputs": [
    {
     "data": {
      "text/plain": [
       "15980"
      ]
     },
     "execution_count": 40,
     "metadata": {},
     "output_type": "execute_result"
    }
   ],
   "source": [
    "# data.sort_values('fold variation', axis=0,ascending=False)\n",
    "data['fold variation'][data['fold variation'].idxmax()]"
   ]
  },
  {
   "cell_type": "code",
   "execution_count": 48,
   "metadata": {},
   "outputs": [
    {
     "name": "stdout",
     "output_type": "stream",
     "text": [
      "Maximum fold variation is 15980 and 17 rows have it\n"
     ]
    }
   ],
   "source": [
    "rows_with_large_fold = data.loc[data['fold variation'] == max(data['fold variation'])]\n",
    "print('Largest fold diffrence is {} and {} rows have it'.format(max(rows_with_large_fold['fold variation']),len(rows_with_large_fold)))"
   ]
  },
  {
   "cell_type": "code",
   "execution_count": 49,
   "metadata": {},
   "outputs": [
    {
     "name": "stdout",
     "output_type": "stream",
     "text": [
      "Lowest fold diffrence is 0 and 476 rows have it\n"
     ]
    }
   ],
   "source": [
    "rows_with_low_fold = data.loc[data['fold variation'] == min(data['fold variation'])]\n",
    "print('Lowest fold diffrence is {} and {} rows have it'.format(min(rows_with_low_fold['fold variation']),len(rows_with_low_fold)))"
   ]
  },
  {
   "cell_type": "code",
   "execution_count": null,
   "metadata": {},
   "outputs": [],
   "source": []
  }
 ],
 "metadata": {
  "kernelspec": {
   "display_name": "Python 3",
   "language": "python",
   "name": "python3"
  },
  "language_info": {
   "codemirror_mode": {
    "name": "ipython",
    "version": 3
   },
   "file_extension": ".py",
   "mimetype": "text/x-python",
   "name": "python",
   "nbconvert_exporter": "python",
   "pygments_lexer": "ipython3",
   "version": "3.6.4"
  }
 },
 "nbformat": 4,
 "nbformat_minor": 2
}
