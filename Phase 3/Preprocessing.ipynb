{
 "cells": [
  {
   "cell_type": "code",
   "execution_count": 1,
   "metadata": {
    "collapsed": true
   },
   "outputs": [],
   "source": [
    "import pandas as pd\n",
    "import numpy as np\n",
    "import re"
   ]
  },
  {
   "cell_type": "code",
   "execution_count": 2,
   "metadata": {
    "collapsed": true
   },
   "outputs": [],
   "source": [
    "train_file = 'ALL_AML_grow.train.orig.txt'\n",
    "test_file = 'ALL_AML_grow.test.orig.txt'\n",
    "sample_file = 'table_ALL_AML_samples.txt'\n",
    "train_idclass_file = 'ALL_AML_idclass.train.txt'\n",
    "test_idclass_file = 'ALL_AML_idclass.test.txt'\n",
    "train_tmp_file = 'LL_AML_grow.train.noaffy.tmp'\n",
    "test_tmp_file = 'ALL_AML_grow.test.noaffy.tmp'\n",
    "norm_train_file = 'ALL_AML_grow.train.norm.tmp'\n",
    "norm_test_file = 'ALL_AML_grow.test.norm.tmp'\n",
    "gcol_train_file = 'ALL_AML_gcol.train.tmp'\n",
    "gcol_test_file = 'ALL_AML_gcol.test.tmp'\n",
    "gcol_class_test_file = 'ALL_AML_gcol_class.test.csv'\n",
    "gcol_class_train_file = 'ALL_AML_gcol_class.train.csv'\n",
    "removable_word = 'endogenous control'"
   ]
  },
  {
   "cell_type": "markdown",
   "metadata": {},
   "source": [
    "## Microarray Data Cleaning Steps"
   ]
  },
  {
   "cell_type": "markdown",
   "metadata": {},
   "source": [
    "Remove Control from Gene Description and Replacing Commas with semicolon :"
   ]
  },
  {
   "cell_type": "code",
   "execution_count": 3,
   "metadata": {},
   "outputs": [
    {
     "name": "stdout",
     "output_type": "stream",
     "text": [
      "Number of occurrences of endogenous control in ALL_AML_grow.train.orig.txt : 58\n",
      "Number of occurrences of endogenous control in ALL_AML_grow.test.orig.txt : 58\n"
     ]
    }
   ],
   "source": [
    "def remove_rows(file_path,tmp_path,removable):\n",
    "    data = pd.read_csv(file_path, sep='\\t',index_col=False)\n",
    "    selected_rows = [g.find(removable) == -1 for g in data['Gene Description']]\n",
    "    print('Number of occurrences of {} in {} : {}'.format(removable,file_path,np.sum(np.array(selected_rows) == False)))\n",
    "    data = data[selected_rows]\n",
    "    data.to_csv(tmp_path,index=False)\n",
    "remove_rows(train_file,train_tmp_file,removable_word)\n",
    "remove_rows(test_file,test_tmp_file,removable_word)"
   ]
  },
  {
   "cell_type": "markdown",
   "metadata": {},
   "source": [
    "Remove unnecessary columns and renaming \"Gene Accession Number\" column to \"ID\" :"
   ]
  },
  {
   "cell_type": "code",
   "execution_count": 4,
   "metadata": {
    "collapsed": true
   },
   "outputs": [],
   "source": [
    "def remove_unnecessary_columns(file_path) :\n",
    "    data = pd.read_csv(file_path)\n",
    "    data = data[np.append(data.columns[1],data.columns[2::2])]\n",
    "    data.columns = np.append(['ID'],data.columns[1:])\n",
    "    return data\n",
    "train_data = remove_unnecessary_columns(train_tmp_file)\n",
    "test_data = remove_unnecessary_columns(test_tmp_file)"
   ]
  },
  {
   "cell_type": "markdown",
   "metadata": {},
   "source": [
    "Limiting Attributes Value, between 20 and 16000 :"
   ]
  },
  {
   "cell_type": "code",
   "execution_count": 5,
   "metadata": {
    "collapsed": true
   },
   "outputs": [],
   "source": [
    "def normalize_data(data,save_path) :\n",
    "    def normalize_row(x) :\n",
    "        if type(x) == str or (x > 20 and x < 16000) :\n",
    "            return x\n",
    "        else :\n",
    "            if np.abs(x - 16000) > np.abs(x - 20) :\n",
    "                return 20\n",
    "            else :\n",
    "                return 16000\n",
    "    data = data.applymap(normalize_row)\n",
    "    data.to_csv(save_path,index=False)\n",
    "normalize_data(train_data,norm_train_file)\n",
    "normalize_data(test_data,norm_test_file)"
   ]
  },
  {
   "cell_type": "markdown",
   "metadata": {},
   "source": [
    "Transposing Matrix :"
   ]
  },
  {
   "cell_type": "code",
   "execution_count": 6,
   "metadata": {},
   "outputs": [
    {
     "name": "stdout",
     "output_type": "stream",
     "text": [
      "Shape of ALL_AML_grow.train.norm.tmp : (39, 7071)\n",
      "Shape of ALL_AML_grow.test.norm.tmp : (35, 7071)\n"
     ]
    }
   ],
   "source": [
    "def tansposing_matrix(data_path,save_path) :\n",
    "    data = pd.read_csv(data_path).transpose()\n",
    "    print('Shape of {} : {}'.format(data_path,data.shape))\n",
    "    data.to_csv(save_path)\n",
    "tansposing_matrix(norm_train_file,gcol_train_file)\n",
    "tansposing_matrix(norm_test_file,gcol_test_file)"
   ]
  },
  {
   "cell_type": "markdown",
   "metadata": {},
   "source": [
    "Merging ClassId tables With Gcol tables :"
   ]
  },
  {
   "cell_type": "code",
   "execution_count": 7,
   "metadata": {
    "collapsed": true
   },
   "outputs": [],
   "source": [
    "pd.merge(pd.read_csv(gcol_test_file,header=1),\n",
    "                   pd.read_csv(test_idclass_file),on=\"ID\") \\\n",
    "                        .to_csv(gcol_class_test_file,index=False)\n",
    "    \n",
    "pd.merge(pd.read_csv(gcol_train_file,header=1),\n",
    "                   pd.read_csv(train_idclass_file),on=\"ID\") \\\n",
    "                        .to_csv(gcol_class_train_file,index=False)"
   ]
  },
  {
   "cell_type": "code",
   "execution_count": 11,
   "metadata": {},
   "outputs": [
    {
     "data": {
      "text/html": [
       "<div>\n",
       "<style scoped>\n",
       "    .dataframe tbody tr th:only-of-type {\n",
       "        vertical-align: middle;\n",
       "    }\n",
       "\n",
       "    .dataframe tbody tr th {\n",
       "        vertical-align: top;\n",
       "    }\n",
       "\n",
       "    .dataframe thead th {\n",
       "        text-align: right;\n",
       "    }\n",
       "</style>\n",
       "<table border=\"1\" class=\"dataframe\">\n",
       "  <thead>\n",
       "    <tr style=\"text-align: right;\">\n",
       "      <th></th>\n",
       "      <th>ID</th>\n",
       "      <th>hum_alu_at</th>\n",
       "      <th>A28102_at</th>\n",
       "      <th>AB000114_at</th>\n",
       "      <th>AB000115_at</th>\n",
       "      <th>AB000220_at</th>\n",
       "      <th>AB000409_at</th>\n",
       "      <th>AB000449_at</th>\n",
       "      <th>AB000450_at</th>\n",
       "      <th>AB000460_at</th>\n",
       "      <th>...</th>\n",
       "      <th>U58516_at</th>\n",
       "      <th>U73738_at</th>\n",
       "      <th>X06956_at</th>\n",
       "      <th>X16699_at</th>\n",
       "      <th>X83863_at</th>\n",
       "      <th>Z17240_at</th>\n",
       "      <th>L49218_f_at</th>\n",
       "      <th>M71243_f_at</th>\n",
       "      <th>Z78285_f_at</th>\n",
       "      <th>Class</th>\n",
       "    </tr>\n",
       "  </thead>\n",
       "  <tbody>\n",
       "    <tr>\n",
       "      <th>0</th>\n",
       "      <td>39</td>\n",
       "      <td>16000</td>\n",
       "      <td>241</td>\n",
       "      <td>20</td>\n",
       "      <td>251</td>\n",
       "      <td>98</td>\n",
       "      <td>20</td>\n",
       "      <td>149</td>\n",
       "      <td>275</td>\n",
       "      <td>2573</td>\n",
       "      <td>...</td>\n",
       "      <td>1023</td>\n",
       "      <td>67</td>\n",
       "      <td>214</td>\n",
       "      <td>20</td>\n",
       "      <td>1074</td>\n",
       "      <td>475</td>\n",
       "      <td>48</td>\n",
       "      <td>168</td>\n",
       "      <td>20</td>\n",
       "      <td>ALL</td>\n",
       "    </tr>\n",
       "    <tr>\n",
       "      <th>1</th>\n",
       "      <td>40</td>\n",
       "      <td>16000</td>\n",
       "      <td>430</td>\n",
       "      <td>20</td>\n",
       "      <td>131</td>\n",
       "      <td>68</td>\n",
       "      <td>181</td>\n",
       "      <td>70</td>\n",
       "      <td>406</td>\n",
       "      <td>1963</td>\n",
       "      <td>...</td>\n",
       "      <td>529</td>\n",
       "      <td>20</td>\n",
       "      <td>352</td>\n",
       "      <td>20</td>\n",
       "      <td>67</td>\n",
       "      <td>263</td>\n",
       "      <td>20</td>\n",
       "      <td>20</td>\n",
       "      <td>20</td>\n",
       "      <td>ALL</td>\n",
       "    </tr>\n",
       "    <tr>\n",
       "      <th>2</th>\n",
       "      <td>42</td>\n",
       "      <td>16000</td>\n",
       "      <td>96</td>\n",
       "      <td>31</td>\n",
       "      <td>138</td>\n",
       "      <td>40</td>\n",
       "      <td>20</td>\n",
       "      <td>283</td>\n",
       "      <td>113</td>\n",
       "      <td>1082</td>\n",
       "      <td>...</td>\n",
       "      <td>399</td>\n",
       "      <td>20</td>\n",
       "      <td>558</td>\n",
       "      <td>24</td>\n",
       "      <td>893</td>\n",
       "      <td>297</td>\n",
       "      <td>20</td>\n",
       "      <td>1971</td>\n",
       "      <td>20</td>\n",
       "      <td>ALL</td>\n",
       "    </tr>\n",
       "    <tr>\n",
       "      <th>3</th>\n",
       "      <td>47</td>\n",
       "      <td>16000</td>\n",
       "      <td>65</td>\n",
       "      <td>20</td>\n",
       "      <td>1147</td>\n",
       "      <td>35</td>\n",
       "      <td>20</td>\n",
       "      <td>285</td>\n",
       "      <td>172</td>\n",
       "      <td>1548</td>\n",
       "      <td>...</td>\n",
       "      <td>277</td>\n",
       "      <td>20</td>\n",
       "      <td>81</td>\n",
       "      <td>20</td>\n",
       "      <td>722</td>\n",
       "      <td>170</td>\n",
       "      <td>20</td>\n",
       "      <td>510</td>\n",
       "      <td>20</td>\n",
       "      <td>ALL</td>\n",
       "    </tr>\n",
       "    <tr>\n",
       "      <th>4</th>\n",
       "      <td>48</td>\n",
       "      <td>11195</td>\n",
       "      <td>260</td>\n",
       "      <td>28</td>\n",
       "      <td>128</td>\n",
       "      <td>46</td>\n",
       "      <td>20</td>\n",
       "      <td>833</td>\n",
       "      <td>390</td>\n",
       "      <td>2222</td>\n",
       "      <td>...</td>\n",
       "      <td>643</td>\n",
       "      <td>51</td>\n",
       "      <td>450</td>\n",
       "      <td>20</td>\n",
       "      <td>612</td>\n",
       "      <td>370</td>\n",
       "      <td>29</td>\n",
       "      <td>333</td>\n",
       "      <td>20</td>\n",
       "      <td>ALL</td>\n",
       "    </tr>\n",
       "  </tbody>\n",
       "</table>\n",
       "<p>5 rows × 7073 columns</p>\n",
       "</div>"
      ],
      "text/plain": [
       "   ID  hum_alu_at  A28102_at  AB000114_at  AB000115_at  AB000220_at  \\\n",
       "0  39       16000        241           20          251           98   \n",
       "1  40       16000        430           20          131           68   \n",
       "2  42       16000         96           31          138           40   \n",
       "3  47       16000         65           20         1147           35   \n",
       "4  48       11195        260           28          128           46   \n",
       "\n",
       "   AB000409_at  AB000449_at  AB000450_at  AB000460_at  ...    U58516_at  \\\n",
       "0           20          149          275         2573  ...         1023   \n",
       "1          181           70          406         1963  ...          529   \n",
       "2           20          283          113         1082  ...          399   \n",
       "3           20          285          172         1548  ...          277   \n",
       "4           20          833          390         2222  ...          643   \n",
       "\n",
       "   U73738_at  X06956_at  X16699_at  X83863_at  Z17240_at  L49218_f_at  \\\n",
       "0         67        214         20       1074        475           48   \n",
       "1         20        352         20         67        263           20   \n",
       "2         20        558         24        893        297           20   \n",
       "3         20         81         20        722        170           20   \n",
       "4         51        450         20        612        370           29   \n",
       "\n",
       "   M71243_f_at  Z78285_f_at  Class  \n",
       "0          168           20    ALL  \n",
       "1           20           20    ALL  \n",
       "2         1971           20    ALL  \n",
       "3          510           20    ALL  \n",
       "4          333           20    ALL  \n",
       "\n",
       "[5 rows x 7073 columns]"
      ]
     },
     "execution_count": 11,
     "metadata": {},
     "output_type": "execute_result"
    }
   ],
   "source": [
    "pd.read_csv(gcol_class_test_file).head(5)"
   ]
  },
  {
   "cell_type": "code",
   "execution_count": 10,
   "metadata": {},
   "outputs": [
    {
     "data": {
      "text/html": [
       "<div>\n",
       "<style scoped>\n",
       "    .dataframe tbody tr th:only-of-type {\n",
       "        vertical-align: middle;\n",
       "    }\n",
       "\n",
       "    .dataframe tbody tr th {\n",
       "        vertical-align: top;\n",
       "    }\n",
       "\n",
       "    .dataframe thead th {\n",
       "        text-align: right;\n",
       "    }\n",
       "</style>\n",
       "<table border=\"1\" class=\"dataframe\">\n",
       "  <thead>\n",
       "    <tr style=\"text-align: right;\">\n",
       "      <th></th>\n",
       "      <th>ID</th>\n",
       "      <th>hum_alu_at</th>\n",
       "      <th>A28102_at</th>\n",
       "      <th>AB000114_at</th>\n",
       "      <th>AB000115_at</th>\n",
       "      <th>AB000220_at</th>\n",
       "      <th>AB000409_at</th>\n",
       "      <th>AB000449_at</th>\n",
       "      <th>AB000450_at</th>\n",
       "      <th>AB000460_at</th>\n",
       "      <th>...</th>\n",
       "      <th>U58516_at</th>\n",
       "      <th>U73738_at</th>\n",
       "      <th>X06956_at</th>\n",
       "      <th>X16699_at</th>\n",
       "      <th>X83863_at</th>\n",
       "      <th>Z17240_at</th>\n",
       "      <th>L49218_f_at</th>\n",
       "      <th>M71243_f_at</th>\n",
       "      <th>Z78285_f_at</th>\n",
       "      <th>Class</th>\n",
       "    </tr>\n",
       "  </thead>\n",
       "  <tbody>\n",
       "    <tr>\n",
       "      <th>0</th>\n",
       "      <td>1</td>\n",
       "      <td>15091</td>\n",
       "      <td>151</td>\n",
       "      <td>72</td>\n",
       "      <td>281</td>\n",
       "      <td>36</td>\n",
       "      <td>20</td>\n",
       "      <td>57</td>\n",
       "      <td>186</td>\n",
       "      <td>1647</td>\n",
       "      <td>...</td>\n",
       "      <td>511</td>\n",
       "      <td>20</td>\n",
       "      <td>389</td>\n",
       "      <td>20</td>\n",
       "      <td>793</td>\n",
       "      <td>329</td>\n",
       "      <td>36</td>\n",
       "      <td>191</td>\n",
       "      <td>20</td>\n",
       "      <td>ALL</td>\n",
       "    </tr>\n",
       "    <tr>\n",
       "      <th>1</th>\n",
       "      <td>2</td>\n",
       "      <td>11038</td>\n",
       "      <td>263</td>\n",
       "      <td>21</td>\n",
       "      <td>250</td>\n",
       "      <td>43</td>\n",
       "      <td>20</td>\n",
       "      <td>169</td>\n",
       "      <td>219</td>\n",
       "      <td>2043</td>\n",
       "      <td>...</td>\n",
       "      <td>837</td>\n",
       "      <td>20</td>\n",
       "      <td>442</td>\n",
       "      <td>20</td>\n",
       "      <td>782</td>\n",
       "      <td>295</td>\n",
       "      <td>20</td>\n",
       "      <td>76</td>\n",
       "      <td>20</td>\n",
       "      <td>ALL</td>\n",
       "    </tr>\n",
       "    <tr>\n",
       "      <th>2</th>\n",
       "      <td>3</td>\n",
       "      <td>16000</td>\n",
       "      <td>88</td>\n",
       "      <td>20</td>\n",
       "      <td>358</td>\n",
       "      <td>42</td>\n",
       "      <td>142</td>\n",
       "      <td>359</td>\n",
       "      <td>237</td>\n",
       "      <td>1997</td>\n",
       "      <td>...</td>\n",
       "      <td>1199</td>\n",
       "      <td>33</td>\n",
       "      <td>168</td>\n",
       "      <td>52</td>\n",
       "      <td>1138</td>\n",
       "      <td>777</td>\n",
       "      <td>41</td>\n",
       "      <td>228</td>\n",
       "      <td>20</td>\n",
       "      <td>ALL</td>\n",
       "    </tr>\n",
       "    <tr>\n",
       "      <th>3</th>\n",
       "      <td>4</td>\n",
       "      <td>15763</td>\n",
       "      <td>484</td>\n",
       "      <td>61</td>\n",
       "      <td>118</td>\n",
       "      <td>39</td>\n",
       "      <td>20</td>\n",
       "      <td>274</td>\n",
       "      <td>245</td>\n",
       "      <td>2128</td>\n",
       "      <td>...</td>\n",
       "      <td>835</td>\n",
       "      <td>218</td>\n",
       "      <td>174</td>\n",
       "      <td>20</td>\n",
       "      <td>627</td>\n",
       "      <td>170</td>\n",
       "      <td>20</td>\n",
       "      <td>126</td>\n",
       "      <td>20</td>\n",
       "      <td>ALL</td>\n",
       "    </tr>\n",
       "    <tr>\n",
       "      <th>4</th>\n",
       "      <td>5</td>\n",
       "      <td>16000</td>\n",
       "      <td>118</td>\n",
       "      <td>20</td>\n",
       "      <td>197</td>\n",
       "      <td>39</td>\n",
       "      <td>237</td>\n",
       "      <td>311</td>\n",
       "      <td>186</td>\n",
       "      <td>1608</td>\n",
       "      <td>...</td>\n",
       "      <td>649</td>\n",
       "      <td>57</td>\n",
       "      <td>504</td>\n",
       "      <td>20</td>\n",
       "      <td>250</td>\n",
       "      <td>314</td>\n",
       "      <td>20</td>\n",
       "      <td>56</td>\n",
       "      <td>20</td>\n",
       "      <td>ALL</td>\n",
       "    </tr>\n",
       "  </tbody>\n",
       "</table>\n",
       "<p>5 rows × 7073 columns</p>\n",
       "</div>"
      ],
      "text/plain": [
       "   ID  hum_alu_at  A28102_at  AB000114_at  AB000115_at  AB000220_at  \\\n",
       "0   1       15091        151           72          281           36   \n",
       "1   2       11038        263           21          250           43   \n",
       "2   3       16000         88           20          358           42   \n",
       "3   4       15763        484           61          118           39   \n",
       "4   5       16000        118           20          197           39   \n",
       "\n",
       "   AB000409_at  AB000449_at  AB000450_at  AB000460_at  ...    U58516_at  \\\n",
       "0           20           57          186         1647  ...          511   \n",
       "1           20          169          219         2043  ...          837   \n",
       "2          142          359          237         1997  ...         1199   \n",
       "3           20          274          245         2128  ...          835   \n",
       "4          237          311          186         1608  ...          649   \n",
       "\n",
       "   U73738_at  X06956_at  X16699_at  X83863_at  Z17240_at  L49218_f_at  \\\n",
       "0         20        389         20        793        329           36   \n",
       "1         20        442         20        782        295           20   \n",
       "2         33        168         52       1138        777           41   \n",
       "3        218        174         20        627        170           20   \n",
       "4         57        504         20        250        314           20   \n",
       "\n",
       "   M71243_f_at  Z78285_f_at  Class  \n",
       "0          191           20    ALL  \n",
       "1           76           20    ALL  \n",
       "2          228           20    ALL  \n",
       "3          126           20    ALL  \n",
       "4           56           20    ALL  \n",
       "\n",
       "[5 rows x 7073 columns]"
      ]
     },
     "execution_count": 10,
     "metadata": {},
     "output_type": "execute_result"
    }
   ],
   "source": [
    "pd.read_csv(gcol_class_train_file).head(5)"
   ]
  },
  {
   "cell_type": "markdown",
   "metadata": {},
   "source": [
    "Using ALL_AML_allgenes.train.arff as train file and ALL_AML_allgenes.test.arff as test, build a model using OneR. What accuracy do you get?"
   ]
  },
  {
   "cell_type": "markdown",
   "metadata": {},
   "source": [
    "![title](images/result_with_id.PNG)"
   ]
  },
  {
   "cell_type": "markdown",
   "metadata": {},
   "source": [
    "Now, excluding the field ID, build models using OneR, NaiveBayes Simple, and J4.8, using training set only."
   ]
  },
  {
   "cell_type": "markdown",
   "metadata": {},
   "source": [
    "OneR :"
   ]
  },
  {
   "cell_type": "markdown",
   "metadata": {
    "slideshow": {
     "slide_type": "subslide"
    }
   },
   "source": [
    "![title](images/result_oneR_no_id.PNG)"
   ]
  },
  {
   "cell_type": "markdown",
   "metadata": {},
   "source": [
    "NaiveBayes :"
   ]
  },
  {
   "cell_type": "markdown",
   "metadata": {},
   "source": [
    "![title](images/result_NB_no_id.PNG)"
   ]
  },
  {
   "cell_type": "markdown",
   "metadata": {},
   "source": [
    "J4.8 :"
   ]
  },
  {
   "cell_type": "markdown",
   "metadata": {},
   "source": [
    "![title](images/result_j48_no_id.PNG)"
   ]
  },
  {
   "cell_type": "markdown",
   "metadata": {},
   "source": [
    "what three things are important in the process of data mining ?"
   ]
  },
  {
   "cell_type": "markdown",
   "metadata": {},
   "source": []
  }
 ],
 "metadata": {
  "kernelspec": {
   "display_name": "Python 3",
   "language": "python",
   "name": "python3"
  },
  "language_info": {
   "codemirror_mode": {
    "name": "ipython",
    "version": 3
   },
   "file_extension": ".py",
   "mimetype": "text/x-python",
   "name": "python",
   "nbconvert_exporter": "python",
   "pygments_lexer": "ipython3",
   "version": "3.6.2"
  }
 },
 "nbformat": 4,
 "nbformat_minor": 2
}
